{
 "cells": [
  {
   "cell_type": "code",
   "execution_count": null,
   "metadata": {},
   "outputs": [],
   "source": [
    "# (1) 8월 29일 (일) - 실패\n",
    "# (2) 9월 7일 (화) - 성공"
   ]
  },
  {
   "cell_type": "markdown",
   "metadata": {},
   "source": [
    "# 4145번. 직각삼각형\n",
    "https://www.acmicpc.net/problem/4153\n"
   ]
  },
  {
   "cell_type": "markdown",
   "metadata": {},
   "source": [
    "#### 풀이 \n",
    "피타고라스 정리 사용    \n",
    "\n",
    "\n",
    "\n",
    "제곱 하기 \n",
    "- math.pow(x, y) : x의 y승을 반환 "
   ]
  },
  {
   "cell_type": "code",
   "execution_count": 18,
   "metadata": {},
   "outputs": [
    {
     "data": {
      "text/plain": [
       "True"
      ]
     },
     "execution_count": 18,
     "metadata": {},
     "output_type": "execute_result"
    }
   ],
   "source": [
    "import math \n",
    "\n",
    "# num1, num2, num3 = map(int, input().split())\n",
    "num1, num2, num3 = 6, 8, 10\n",
    "int(math.pow(num1,2)), int(math.pow(num2,2)), int(math.pow(num3,2))\n",
    "\n"
   ]
  },
  {
   "cell_type": "code",
   "execution_count": 22,
   "metadata": {},
   "outputs": [
    {
     "name": "stdout",
     "output_type": "stream",
     "text": [
      "6 8 10\n",
      "right\n",
      "25 52 60\n",
      "wrong\n",
      "5 12 13\n",
      "right\n",
      "0 0 0\n"
     ]
    }
   ],
   "source": [
    "# 왜 런타임에러뜨지? \n",
    "while True :\n",
    "    num1, num2, num3 = map(int, input().split())\n",
    "    \n",
    "    if num1*num2*num3 == 0:\n",
    "        break\n",
    "    \n",
    "    elif int(math.pow(num1,2)) + int(math.pow(num2,2)) == int(math.pow(num3,2)):\n",
    "        print(\"right\")\n",
    "    \n",
    "    else:\n",
    "        print(\"wrong\")"
   ]
  },
  {
   "cell_type": "markdown",
   "metadata": {},
   "source": [
    "위에 풀이에서 간과한것이 있었다. 가장 긴 빗변의 길이를 고려하지 못한점이다. "
   ]
  },
  {
   "cell_type": "code",
   "execution_count": 6,
   "metadata": {},
   "outputs": [
    {
     "name": "stdout",
     "output_type": "stream",
     "text": [
      "6 8 10\n",
      "right\n",
      "25 52 60\n",
      "wrong\n",
      "5 12 13\n",
      "right\n",
      "0 0 0\n"
     ]
    }
   ],
   "source": [
    "import math \n",
    "\n",
    "while True:\n",
    "    num = list(map(int, input().split()))\n",
    "    \n",
    "    if sum(num) == 0 :\n",
    "        break\n",
    "    max_num = max(num)\n",
    "    num.remove(max_num)\n",
    "    \n",
    "    if int(math.pow(num[0],2)) + int(math.pow(num[1],2)) == int(math.pow(max_num,2)):\n",
    "        print('right')\n",
    "    else:\n",
    "        print('wrong')"
   ]
  },
  {
   "cell_type": "code",
   "execution_count": null,
   "metadata": {},
   "outputs": [],
   "source": []
  }
 ],
 "metadata": {
  "kernelspec": {
   "display_name": "Python 3",
   "language": "python",
   "name": "python3"
  },
  "language_info": {
   "codemirror_mode": {
    "name": "ipython",
    "version": 3
   },
   "file_extension": ".py",
   "mimetype": "text/x-python",
   "name": "python",
   "nbconvert_exporter": "python",
   "pygments_lexer": "ipython3",
   "version": "3.7.10"
  }
 },
 "nbformat": 4,
 "nbformat_minor": 4
}
