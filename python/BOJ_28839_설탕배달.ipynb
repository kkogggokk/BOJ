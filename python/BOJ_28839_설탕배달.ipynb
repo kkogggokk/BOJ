{
 "cells": [
  {
   "cell_type": "markdown",
   "metadata": {},
   "source": [
    "https://www.acmicpc.net/problem/2839\n",
    "\n",
    "(1) 9월1일 (수) "
   ]
  },
  {
   "cell_type": "markdown",
   "metadata": {},
   "source": [
    "- 몫 : //\n",
    "- 나머지 : %"
   ]
  },
  {
   "cell_type": "markdown",
   "metadata": {},
   "source": [
    "N 이 주어진 입력값이면, \n",
    "$ N = 5x + 3y $ 일때 $x+y$ 값을 구하는거고 없으면 -1을 출력 \n",
    "\n",
    "- 방법1. 나눠서 직접 구현 \n",
    "    - 5의 배수, 3의 배수에 해당 해야하기 때문에 \n",
    "\n",
    "- 방법2. 넘파이 사용해서 해 구하는 방법 \n",
    "    - 식은1개이고 변수는 2개라서 풀수없다. "
   ]
  },
  {
   "cell_type": "code",
   "execution_count": 88,
   "metadata": {},
   "outputs": [
    {
     "name": "stdout",
     "output_type": "stream",
     "text": [
      "4\n",
      "-1\n"
     ]
    }
   ],
   "source": [
    "N = int(input())\n",
    "result = 0 \n",
    "\n",
    "while True : # N은 5와 3의 배수의 계수에 해당이 해당하니 0으로 끝이 나야한다. \n",
    "    if N % 5 == 0 : # 3의 배수 빼준다음 5의 배수일경우 결과에 몫만 더하면 끝이 난다. \n",
    "        result += N // 5 \n",
    "        print(result)\n",
    "        break  \n",
    "\n",
    "    # 5의 배수가 아닐경우 3개씩 빼주면서 봉지를 하나씩 추가하게 된다\n",
    "    N -= 3 # 3을 빼주고 \n",
    "    result +=1 # 봉지는 하나씩 증가 \n",
    "\n",
    "    if N < 0 : # 5와 3의 배수인 경우 N이 0으로 끝나기 때문에 음수일 경우는 5,3의 배수가 아니다. \n",
    "        print('-1') \n",
    "        break"
   ]
  },
  {
   "cell_type": "markdown",
   "metadata": {},
   "source": [
    "> ## 리뷰 \n",
    "- 사실 여러가지 방법을 생각했었다. divmod로 몫과 나머지를 구해서 몫을 구하면 그 몫을 저장해주고, 나머지를 넘겨줘서 3으로 나누는 등으로 생각하기도 했었다. \n",
    "    - 그러나 4의 경우가 문제가 된다. 5로 나눴을때 나머지를 3으로 나누면 그 몫과 나머지에 대한 값은 있으니 -1을 출력하기에는 어려움이 있었고, 몫과 나머지로만 생각한다면 구현하는 코드또한 복잡해진다. \n",
    "\n",
    "- 또 다른 방법으로는 수식을 만들어서 solve를 해보자 였다. 그러나 x, y 변수는 2개인데 식은 1개이니 풀수 있는 조건에 충종하지 않으므로 할수없다. \n",
    "\n",
    "- 5의 배수와 3의 배수를 확인 하는 가장 좋은 방법은 나머지로 확인하는것이다. 그래서 나머지로 판단하는 것이 좋다. \n"
   ]
  }
 ],
 "metadata": {
  "kernelspec": {
   "display_name": "Python 3",
   "language": "python",
   "name": "python3"
  },
  "language_info": {
   "codemirror_mode": {
    "name": "ipython",
    "version": 3
   },
   "file_extension": ".py",
   "mimetype": "text/x-python",
   "name": "python",
   "nbconvert_exporter": "python",
   "pygments_lexer": "ipython3",
   "version": "3.7.10"
  }
 },
 "nbformat": 4,
 "nbformat_minor": 4
}
