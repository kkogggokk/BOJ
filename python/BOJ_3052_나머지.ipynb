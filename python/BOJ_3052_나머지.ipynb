{
 "cells": [
  {
   "cell_type": "markdown",
   "id": "bc2c4be5",
   "metadata": {},
   "source": [
    "https://www.acmicpc.net/problem/3052\n",
    "\n",
    "\n",
    "두 자연수 A와 B가 있을 때, A%B는 A를 B로 나눈 나머지 이다. 예를 들어, 7, 14, 27, 38을 3으로 나눈 나머지는 1, 2, 0, 2이다. \n",
    "\n",
    "수 10개를 입력받은 뒤, 이를 42로 나눈 나머지를 구한다. 그 다음 서로 다른 값이 몇 개 있는지 출력하는 프로그램을 작성하시오.\n",
    "\n"
   ]
  },
  {
   "cell_type": "code",
   "execution_count": null,
   "id": "edd7e3b5",
   "metadata": {},
   "outputs": [],
   "source": [
    "# (1) 8월25일 (수)"
   ]
  },
  {
   "cell_type": "code",
   "execution_count": null,
   "id": "2a435289",
   "metadata": {},
   "outputs": [],
   "source": [
    "# 중복되는 값은 카운트에 포함이 안되니 set으로 값을 저장해서 --> 갯수를 세주면 될것 같아. \n",
    "\n",
    "remainder = set() \n",
    "num = list() \n",
    "\n",
    "for i in range(10):\n",
    "    num.append(int(input()))\n",
    "    remainder.add(num[i] % 42)\n",
    "    \n",
    "print(len(remainder))"
   ]
  },
  {
   "cell_type": "markdown",
   "id": "ef9019e7",
   "metadata": {},
   "source": [
    "# 이전에 작성한 코드 "
   ]
  },
  {
   "cell_type": "code",
   "execution_count": null,
   "id": "b3da3dcd",
   "metadata": {},
   "outputs": [],
   "source": [
    "lst = list()\n",
    "\n",
    "for i in range(10) : \n",
    "    num = int(input())\n",
    "    lst.append(num%42)\n",
    "\n",
    "print(len(set(lst)))"
   ]
  }
 ],
 "metadata": {
  "kernelspec": {
   "display_name": "Python 3",
   "language": "python",
   "name": "python3"
  },
  "language_info": {
   "codemirror_mode": {
    "name": "ipython",
    "version": 3
   },
   "file_extension": ".py",
   "mimetype": "text/x-python",
   "name": "python",
   "nbconvert_exporter": "python",
   "pygments_lexer": "ipython3",
   "version": "3.8.5"
  }
 },
 "nbformat": 4,
 "nbformat_minor": 5
}
