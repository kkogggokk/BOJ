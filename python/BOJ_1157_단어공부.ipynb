{
 "cells": [
  {
   "cell_type": "code",
   "execution_count": null,
   "id": "ab72e72f",
   "metadata": {},
   "outputs": [],
   "source": [
    "# (1) 8월 25일(수)"
   ]
  },
  {
   "cell_type": "markdown",
   "id": "aa3715ad",
   "metadata": {},
   "source": [
    "https://www.acmicpc.net/problem/1157\n",
    "\n",
    "알파벳 대소문자로 된 단어가 주어지면, 이 단어에서 가장 많이 사용된 알파벳이 무엇인지 알아내는 프로그램을 작성하시오. 단, 대문자와 소문자를 구분하지 않는다.\n",
    "\n",
    "\n",
    "첫째 줄에 이 단어에서 가장 많이 사용된 알파벳을 대문자로 출력한다. 단, 가장 많이 사용된 알파벳이 여러 개 존재하는 경우에는 ?를 출력한다."
   ]
  },
  {
   "cell_type": "code",
   "execution_count": 20,
   "id": "fb026d2d",
   "metadata": {},
   "outputs": [
    {
     "name": "stdout",
     "output_type": "stream",
     "text": [
      "['M', 'I', 'P', 'S']\n",
      "1\n",
      "4\n",
      "1\n",
      "4\n"
     ]
    }
   ],
   "source": [
    "s1 = 'Mississipi'\n",
    "\n",
    "# 각 어떤 문자들이 있는지 확인해보자 \n",
    "chr= list(set(s1.upper()))\n",
    "print(chr)\n",
    "s_up = s1.upper()\n",
    "\n",
    "for i in range(len(chr)):\n",
    "    print(s_up.count(chr[i]))\n"
   ]
  },
  {
   "cell_type": "code",
   "execution_count": null,
   "id": "338b08a3",
   "metadata": {},
   "outputs": [],
   "source": [
    "# 딕셔너리 이용하면 훨씬 더 편할것 같은데.. "
   ]
  },
  {
   "cell_type": "markdown",
   "id": "95b7bb02",
   "metadata": {},
   "source": [
    "1. 알파벳별 갯수 구하기 \n",
    "2. 최댓값 구하기 \n",
    "    - 2.1 최댓값이 중복이면 ? 출력하기 <-- 이부분을 어떻게 처리하지? \n",
    "3. 최댓값에 해당하는 문자 출력하기 \n",
    "\n",
    "\n",
    "중복해서 사용하니 함수를 사용하면 좋을듯하네 "
   ]
  },
  {
   "cell_type": "code",
   "execution_count": null,
   "id": "4b9fe20e",
   "metadata": {},
   "outputs": [],
   "source": []
  }
 ],
 "metadata": {
  "kernelspec": {
   "display_name": "Python 3",
   "language": "python",
   "name": "python3"
  },
  "language_info": {
   "codemirror_mode": {
    "name": "ipython",
    "version": 3
   },
   "file_extension": ".py",
   "mimetype": "text/x-python",
   "name": "python",
   "nbconvert_exporter": "python",
   "pygments_lexer": "ipython3",
   "version": "3.8.5"
  }
 },
 "nbformat": 4,
 "nbformat_minor": 5
}
