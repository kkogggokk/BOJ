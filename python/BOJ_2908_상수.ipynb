{
 "cells": [
  {
   "cell_type": "code",
   "execution_count": null,
   "id": "2f2ef8ca",
   "metadata": {},
   "outputs": [],
   "source": [
    "# (1) 8월25일 (수)"
   ]
  },
  {
   "cell_type": "markdown",
   "id": "d13fb04f",
   "metadata": {},
   "source": [
    "https://www.acmicpc.net/problem/2908\n",
    "\n",
    "상근이의 동생 상수는 수학을 정말 못한다. 상수는 숫자를 읽는데 문제가 있다. 이렇게 수학을 못하는 상수를 위해서 상근이는 수의 크기를 비교하는 문제를 내주었다. 상근이는 세 자리 수 두 개를 칠판에 써주었다. 그 다음에 크기가 큰 수를 말해보라고 했다.\n",
    "\n",
    "상수는 수를 다른 사람과 다르게 거꾸로 읽는다. 예를 들어, 734와 893을 칠판에 적었다면, 상수는 이 수를 437과 398로 읽는다. 따라서, 상수는 두 수중 큰 수인 437을 큰 수라고 말할 것이다.\n",
    "\n",
    "두 수가 주어졌을 때, 상수의 대답을 출력하는 프로그램을 작성하시오."
   ]
  },
  {
   "cell_type": "code",
   "execution_count": 23,
   "id": "c27cb790",
   "metadata": {},
   "outputs": [
    {
     "name": "stdout",
     "output_type": "stream",
     "text": [
      "221 231\n",
      "132\n"
     ]
    }
   ],
   "source": [
    "num = list(map(int,input().split()))# 숫자 입력 받기 \n",
    "rev_num = list()# reverse하는 변수 리스트 선언 \n",
    "\n",
    "for i, value in enumerate(num):\n",
    "    rev_num.append(int(\"\".join(reversed(str(value)))))# 입력받은 숫자 reverse하기 \n",
    "\n",
    "print(max(rev_num))"
   ]
  },
  {
   "cell_type": "markdown",
   "id": "b1f408aa",
   "metadata": {},
   "source": [
    "# "
   ]
  },
  {
   "cell_type": "code",
   "execution_count": null,
   "id": "ccb568b2",
   "metadata": {},
   "outputs": [],
   "source": []
  }
 ],
 "metadata": {
  "kernelspec": {
   "display_name": "Python 3",
   "language": "python",
   "name": "python3"
  },
  "language_info": {
   "codemirror_mode": {
    "name": "ipython",
    "version": 3
   },
   "file_extension": ".py",
   "mimetype": "text/x-python",
   "name": "python",
   "nbconvert_exporter": "python",
   "pygments_lexer": "ipython3",
   "version": "3.8.5"
  }
 },
 "nbformat": 4,
 "nbformat_minor": 5
}
