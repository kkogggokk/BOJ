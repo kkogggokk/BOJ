{
 "cells": [
  {
   "cell_type": "code",
   "execution_count": null,
   "id": "92155d06",
   "metadata": {},
   "outputs": [],
   "source": [
    "# (1) 8월25일 수"
   ]
  },
  {
   "cell_type": "markdown",
   "id": "6875bf01",
   "metadata": {},
   "source": [
    "https://www.acmicpc.net/problem/2675\n",
    "\n",
    "문자열 S를 입력받은 후에, 각 문자를 R번 반복해 새 문자열 P를 만든 후 출력하는 프로그램을 작성하시오. 즉, 첫 번째 문자를 R번 반복하고, 두 번째 문자를 R번 반복하는 식으로 P를 만들면 된다. S에는 QR Code \"alphanumeric\" 문자만 들어있다.\n",
    "\n",
    "QR Code \"alphanumeric\" 문자는 0123456789ABCDEFGHIJKLMNOPQRSTUVWXYZ\\$%*+-./: 이다."
   ]
  },
  {
   "cell_type": "code",
   "execution_count": 21,
   "id": "f3a6a5c5",
   "metadata": {},
   "outputs": [
    {
     "name": "stdout",
     "output_type": "stream",
     "text": [
      "2\n",
      "3 ABC\n",
      "AAABBBCCC\n",
      "5 /HTP\n",
      "/////HHHHHTTTTTPPPPP\n"
     ]
    }
   ],
   "source": [
    "num = int(input()) # 문자열 갯수 입력 \n",
    "def result(count, s):\n",
    "    for i in range(len(s)):\n",
    "        print(s[i] * int(count), end='')#입력받은 숫자만큼 반복해준다. \n",
    "    \n",
    "for i in range(num):\n",
    "    count, s = map(str, input().split())\n",
    "    result(count,s)\n",
    "    print()\n"
   ]
  },
  {
   "cell_type": "markdown",
   "id": "306548b9",
   "metadata": {},
   "source": [
    "# 이전에 푼거"
   ]
  },
  {
   "cell_type": "code",
   "execution_count": 20,
   "id": "71526f47",
   "metadata": {},
   "outputs": [
    {
     "name": "stdout",
     "output_type": "stream",
     "text": [
      "2\n",
      "3 ABC\n",
      "AAABBBCCC\n",
      "5 /HTP\n",
      "/////HHHHHTTTTTPPPPP\n"
     ]
    }
   ],
   "source": [
    "n = int(input())\n",
    "P = ''\n",
    "# alphanumeric = \n",
    "for i in range(n):\n",
    "    R, S = input().split()\n",
    "    for i in range(len(S)):\n",
    "        P += S[i] * int(R)\n",
    "    print(P)\n",
    "    P = ''"
   ]
  },
  {
   "cell_type": "code",
   "execution_count": null,
   "id": "4daf7dcb",
   "metadata": {},
   "outputs": [],
   "source": []
  }
 ],
 "metadata": {
  "kernelspec": {
   "display_name": "Python 3",
   "language": "python",
   "name": "python3"
  },
  "language_info": {
   "codemirror_mode": {
    "name": "ipython",
    "version": 3
   },
   "file_extension": ".py",
   "mimetype": "text/x-python",
   "name": "python",
   "nbconvert_exporter": "python",
   "pygments_lexer": "ipython3",
   "version": "3.8.5"
  }
 },
 "nbformat": 4,
 "nbformat_minor": 5
}
