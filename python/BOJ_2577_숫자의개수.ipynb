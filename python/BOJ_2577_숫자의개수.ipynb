{
 "cells": [
  {
   "cell_type": "code",
   "execution_count": null,
   "id": "b3707982",
   "metadata": {},
   "outputs": [],
   "source": [
    "# (1) 8월25일(수) # 딕셔너리로 해보고 싶었는데 어렵다 우선 시간이 너무 흘렀으니 패스하자. "
   ]
  },
  {
   "cell_type": "markdown",
   "id": "301a39f0",
   "metadata": {},
   "source": [
    "https://www.acmicpc.net/problem/2577\n",
    "\n",
    "세 개의 자연수 A, B, C가 주어질 때 A × B × C를 계산한 결과에 0부터 9까지 각각의 숫자가 몇 번씩 쓰였는지를 구하는 프로그램을 작성하시오.\n",
    "\n",
    "예를 들어 A = 150, B = 266, C = 427 이라면 A × B × C = 150 × 266 × 427 = 17037300 이 되고, 계산한 결과 17037300 에는 0이 3번, 1이 1번, 3이 2번, 7이 2번 쓰였다."
   ]
  },
  {
   "cell_type": "code",
   "execution_count": null,
   "id": "c9015cc6",
   "metadata": {},
   "outputs": [],
   "source": [
    "A = int(input())\n",
    "B = int(input())\n",
    "C = int(input())"
   ]
  },
  {
   "cell_type": "code",
   "execution_count": 22,
   "id": "aa7ca128",
   "metadata": {},
   "outputs": [
    {
     "data": {
      "text/plain": [
       "'17037300'"
      ]
     },
     "execution_count": 22,
     "metadata": {},
     "output_type": "execute_result"
    }
   ],
   "source": [
    "A, B, C = 150, 266, 427 \n",
    "gop = str(A*B*C)\n",
    "gop"
   ]
  },
  {
   "cell_type": "code",
   "execution_count": 67,
   "id": "194920d4",
   "metadata": {},
   "outputs": [
    {
     "data": {
      "text/plain": [
       "0"
      ]
     },
     "execution_count": 67,
     "metadata": {},
     "output_type": "execute_result"
    }
   ],
   "source": [
    "# 딕셔너리로 풀수 있을까? \n",
    "# 키 값으로 숫자 되려나? key값이 숫자 타입인 경우는 리스트 index 접근과 헷갈릴 수 있지만, 인덱스 접근이 아니라는 것을 알아 두어야 합니다. 엄연히 딕셔너리에서 key 접근 입니다. \n",
    "# 우선 가능은 하다라는거네, \n",
    "\n",
    "init = dict()\n",
    "init.update(zip([0, 1, 2, 3, 4, 5, 6, 7, 8, 9],[0, 0, 0, 0, 0, 0, 0, 0, 0, 0]))\n",
    "init\n",
    "\n",
    "# 키 값가져오기 \n",
    "init.get(2)"
   ]
  },
  {
   "cell_type": "code",
   "execution_count": 72,
   "id": "7a6bc10c",
   "metadata": {},
   "outputs": [
    {
     "name": "stdout",
     "output_type": "stream",
     "text": [
      "0\n"
     ]
    },
    {
     "ename": "AttributeError",
     "evalue": "'str' object has no attribute 'update'",
     "output_type": "error",
     "traceback": [
      "\u001b[0;31m---------------------------------------------------------------------------\u001b[0m",
      "\u001b[0;31mAttributeError\u001b[0m                            Traceback (most recent call last)",
      "\u001b[0;32m<ipython-input-72-80953c431dc1>\u001b[0m in \u001b[0;36m<module>\u001b[0;34m\u001b[0m\n\u001b[1;32m      9\u001b[0m \u001b[0;31m#         gop.update({gop[i], int(count)})\u001b[0m\u001b[0;34m\u001b[0m\u001b[0;34m\u001b[0m\u001b[0;34m\u001b[0m\u001b[0m\n\u001b[1;32m     10\u001b[0m \u001b[0;31m#     gop.update(키=값)\u001b[0m\u001b[0;34m\u001b[0m\u001b[0;34m\u001b[0m\u001b[0;34m\u001b[0m\u001b[0m\n\u001b[0;32m---> 11\u001b[0;31m     \u001b[0mgop\u001b[0m\u001b[0;34m.\u001b[0m\u001b[0mupdate\u001b[0m\u001b[0;34m(\u001b[0m\u001b[0mi\u001b[0m\u001b[0;34m=\u001b[0m\u001b[0mint\u001b[0m\u001b[0;34m(\u001b[0m\u001b[0mcount\u001b[0m\u001b[0;34m)\u001b[0m\u001b[0;34m)\u001b[0m\u001b[0;34m\u001b[0m\u001b[0;34m\u001b[0m\u001b[0m\n\u001b[0m\u001b[1;32m     12\u001b[0m \u001b[0;34m\u001b[0m\u001b[0m\n\u001b[1;32m     13\u001b[0m \u001b[0;34m\u001b[0m\u001b[0m\n",
      "\u001b[0;31mAttributeError\u001b[0m: 'str' object has no attribute 'update'"
     ]
    }
   ],
   "source": [
    "# 곱한 결과 --> 값하나씩 옮겨가면서 해당 숫자이면 --> 딕셔너리 value에서 +=1 해줘서 갯수를 늘려나간다. \n",
    "for i in range(len(gop)): # 17037300\n",
    "    count = init[int(gop[i])] # i값에 해당하는 키의 값을 가져와보자 \n",
    "#     print(count)\n",
    "    print(init.get(i)) # 키값 가져오기 \n",
    "#     if gop[i] == :# 값 하나씩 옮겨가면 해당 숫자 이면\n",
    "#         print(gop[i])\n",
    "#         count += 1 \n",
    "#         gop.update({gop[i], int(count)})\n",
    "#     gop.update(키=값)\n",
    "    gop.update(i=int(count))\n",
    "    \n",
    "\n",
    "\n",
    "    \n",
    "# 딕셔너리는 str값만 들어오는거지? 연산이 안되는거지? 값을 불러와서 연산해줘서 다시 넣어주는 형태로 해야되는구나 \n",
    "init"
   ]
  },
  {
   "cell_type": "markdown",
   "id": "b10fc984",
   "metadata": {},
   "source": [
    "# 이전에 푼거 "
   ]
  }
 ],
 "metadata": {
  "kernelspec": {
   "display_name": "Python 3",
   "language": "python",
   "name": "python3"
  },
  "language_info": {
   "codemirror_mode": {
    "name": "ipython",
    "version": 3
   },
   "file_extension": ".py",
   "mimetype": "text/x-python",
   "name": "python",
   "nbconvert_exporter": "python",
   "pygments_lexer": "ipython3",
   "version": "3.8.5"
  }
 },
 "nbformat": 4,
 "nbformat_minor": 5
}
