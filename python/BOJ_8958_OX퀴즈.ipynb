{
 "cells": [
  {
   "cell_type": "markdown",
   "metadata": {},
   "source": [
    "https://www.acmicpc.net/problem/8958\n",
    "\n",
    "\"OOXXOXXOOO\"와 같은 OX퀴즈의 결과가 있다. O는 문제를 맞은 것이고, X는 문제를 틀린 것이다. 문제를 맞은 경우 그 문제의 점수는 그 문제까지 연속된 O의 개수가 된다. 예를 들어, 10번 문제의 점수는 3이 된다.\n",
    "\n",
    "\"OOXXOXXOOO\"의 점수는 1+2+0+0+1+0+0+1+2+3 = 10점이다.\n",
    "\n",
    "OX퀴즈의 결과가 주어졌을 때, 점수를 구하는 프로그램을 작성하시오."
   ]
  },
  {
   "cell_type": "code",
   "execution_count": null,
   "metadata": {},
   "outputs": [],
   "source": [
    "# (1) 8월25일(수)"
   ]
  },
  {
   "cell_type": "code",
   "execution_count": 15,
   "metadata": {},
   "outputs": [
    {
     "name": "stdout",
     "output_type": "stream",
     "text": [
      "5\n",
      "OOXXOXXOOO\n",
      "10\n",
      "OOXXOOXXOO\n",
      "9\n",
      "OXOXOXOXOXOXOX\n",
      "7\n",
      "OOOOOOOOOO\n",
      "55\n",
      "OOOOXOOOOXOOOOX\n",
      "30\n"
     ]
    }
   ],
   "source": [
    "num = int(input())\n",
    "\n",
    "def Score(s):# 점수를 프린트하는 함수를 만든다. \n",
    "    jumsu = list()\n",
    "    score = 0 \n",
    "    \n",
    "    for i in range(len(s)):\n",
    "        if s[i] == 'O':\n",
    "            score += 1 \n",
    "        else:\n",
    "            score = 0\n",
    "        jumsu.append(score)\n",
    "    print(sum(jumsu))\n",
    "\n",
    "for i in range(num):\n",
    "    s = input() # OX퀴즈 결과에 대한 스트링 값을 받는다. \n",
    "    Score(s) "
   ]
  },
  {
   "cell_type": "markdown",
   "metadata": {},
   "source": [
    "# ----- 이전에 풀었던 코드 "
   ]
  },
  {
   "cell_type": "markdown",
   "metadata": {},
   "source": [
    "- 변수 \n",
    "    - num : 테스트 케이스의 갯수  \n",
    "    - test_case : 각 테스트 케이스\n",
    "        - list\n",
    "        - 문자 , 각 문자 개별적으로 저장\n",
    "    - check : 연속된 0의 갯수 확인\n",
    "        - 초기값 = 0 \n",
    "        - 'O' 만남 -> check += 1\n",
    "        - 'X' 만남 -> check = 0 (reset)\n",
    "    - score : check한 결과 담기 \n",
    "        - list\n",
    "        - check 한 값을 append\n",
    "        - sum해서 출력 \n"
   ]
  },
  {
   "cell_type": "code",
   "execution_count": 14,
   "metadata": {},
   "outputs": [
    {
     "name": "stdout",
     "output_type": "stream",
     "text": [
      "5\n",
      "OOXXOXXOOO\n",
      "10\n",
      "OOXXOOXXOO\n",
      "9\n",
      "OXOXOXOXOXOXOX\n",
      "7\n",
      "OOOOOOOOOO\n",
      "55\n",
      "OOOOXOOOOXOOOOX\n",
      "30\n"
     ]
    }
   ],
   "source": [
    "check = 0\n",
    "score = list()\n",
    "\n",
    "num = int(input())\n",
    "for i in range(num) :\n",
    "    test_case = list(input())\n",
    "\n",
    "    while True : # 테스트 케이스 'O', 'X' \n",
    "        for i in range(len(test_case)) : \n",
    "            if test_case[i] == 'O' :\n",
    "                check += 1\n",
    "                score.append(check)\n",
    "            elif test_case[i] == 'X' :\n",
    "                check = 0\n",
    "        print(sum(score))\n",
    "        break\n",
    "    check = 0 # reset안해서 결과값이 잘못 나왔음\n",
    "    score.clear() # 끝나고 난 다음에 새로 받기 위해서 reset"
   ]
  },
  {
   "cell_type": "code",
   "execution_count": null,
   "metadata": {},
   "outputs": [],
   "source": []
  }
 ],
 "metadata": {
  "kernelspec": {
   "display_name": "Python 3",
   "language": "python",
   "name": "python3"
  },
  "language_info": {
   "codemirror_mode": {
    "name": "ipython",
    "version": 3
   },
   "file_extension": ".py",
   "mimetype": "text/x-python",
   "name": "python",
   "nbconvert_exporter": "python",
   "pygments_lexer": "ipython3",
   "version": "3.7.10"
  }
 },
 "nbformat": 4,
 "nbformat_minor": 5
}
